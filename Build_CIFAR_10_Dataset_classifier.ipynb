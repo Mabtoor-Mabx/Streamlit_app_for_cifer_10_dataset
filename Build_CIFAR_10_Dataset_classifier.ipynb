{
  "cells": [
    {
      "cell_type": "markdown",
      "metadata": {
        "id": "rB_SNxEGMiqs"
      },
      "source": [
        "# **Buid CIFAR-10 Dataset classifier Using Deep learning and Deploy it Using Streamlit**"
      ]
    },
    {
      "cell_type": "markdown",
      "metadata": {
        "id": "xYCYRSeeMsCp"
      },
      "source": [
        "### **1- Import Libraries**"
      ]
    },
    {
      "cell_type": "code",
      "execution_count": 1,
      "metadata": {
        "id": "2rauppc-MrQJ"
      },
      "outputs": [],
      "source": [
        "import tensorflow as tf\n",
        "from keras import datasets,layers,models\n",
        "import matplotlib.pyplot as plt\n",
        "import numpy as np"
      ]
    },
    {
      "cell_type": "markdown",
      "metadata": {
        "id": "OHRKRxPINN3Q"
      },
      "source": [
        "### **2-Import some Important Functions From helper.py**"
      ]
    },
    {
      "cell_type": "code",
      "execution_count": 2,
      "metadata": {
        "colab": {
          "base_uri": "https://localhost:8080/"
        },
        "id": "Gg50soQmNLWM",
        "outputId": "e0145524-1c8b-4ba8-d8e6-5b31d9737cca"
      },
      "outputs": [
        {
          "output_type": "stream",
          "name": "stdout",
          "text": [
            "--2022-07-27 17:08:47--  https://raw.githubusercontent.com/mrdbourke/tensorflow-deep-learning/main/extras/helper_functions.py\n",
            "Resolving raw.githubusercontent.com (raw.githubusercontent.com)... 185.199.108.133, 185.199.109.133, 185.199.110.133, ...\n",
            "Connecting to raw.githubusercontent.com (raw.githubusercontent.com)|185.199.108.133|:443... connected.\n",
            "HTTP request sent, awaiting response... 200 OK\n",
            "Length: 10246 (10K) [text/plain]\n",
            "Saving to: ‘helper_functions.py’\n",
            "\n",
            "\rhelper_functions.py   0%[                    ]       0  --.-KB/s               \rhelper_functions.py 100%[===================>]  10.01K  --.-KB/s    in 0s      \n",
            "\n",
            "2022-07-27 17:08:47 (115 MB/s) - ‘helper_functions.py’ saved [10246/10246]\n",
            "\n"
          ]
        }
      ],
      "source": [
        "# Import Helper Function\n",
        "\n",
        "!wget https://raw.githubusercontent.com/mrdbourke/tensorflow-deep-learning/main/extras/helper_functions.py"
      ]
    },
    {
      "cell_type": "code",
      "execution_count": 2,
      "metadata": {
        "id": "QMWvx4HaNmaF"
      },
      "outputs": [],
      "source": [
        ""
      ]
    },
    {
      "cell_type": "markdown",
      "metadata": {
        "id": "5JrdFLTMNrWC"
      },
      "source": [
        "### **3-Load Dataset from Tensorflow Datasets**"
      ]
    },
    {
      "cell_type": "code",
      "execution_count": 3,
      "metadata": {
        "colab": {
          "base_uri": "https://localhost:8080/"
        },
        "id": "IcNzWokTNovC",
        "outputId": "f5863ff4-853e-4977-8c93-863ef3900dd6"
      },
      "outputs": [
        {
          "output_type": "stream",
          "name": "stdout",
          "text": [
            "Downloading data from https://www.cs.toronto.edu/~kriz/cifar-10-python.tar.gz\n",
            "170500096/170498071 [==============================] - 4s 0us/step\n",
            "170508288/170498071 [==============================] - 4s 0us/step\n"
          ]
        }
      ],
      "source": [
        "(X_train,y_train),(X_test,y_test)=datasets.cifar10.load_data()"
      ]
    },
    {
      "cell_type": "code",
      "execution_count": 4,
      "metadata": {
        "colab": {
          "base_uri": "https://localhost:8080/"
        },
        "id": "tZCsyECdX9i6",
        "outputId": "174b49c2-d60b-46aa-dcb3-9ed117726b06"
      },
      "outputs": [
        {
          "output_type": "execute_result",
          "data": {
            "text/plain": [
              "(50000, 32, 32, 3)"
            ]
          },
          "metadata": {},
          "execution_count": 4
        }
      ],
      "source": [
        "X_train.shape"
      ]
    },
    {
      "cell_type": "code",
      "execution_count": 5,
      "metadata": {
        "colab": {
          "base_uri": "https://localhost:8080/"
        },
        "id": "GXBVL-73X--j",
        "outputId": "eef1bb58-28e3-4cfb-fd7a-4fc3756493af"
      },
      "outputs": [
        {
          "output_type": "execute_result",
          "data": {
            "text/plain": [
              "(10000, 32, 32, 3)"
            ]
          },
          "metadata": {},
          "execution_count": 5
        }
      ],
      "source": [
        "X_test.shape"
      ]
    },
    {
      "cell_type": "code",
      "execution_count": 6,
      "metadata": {
        "colab": {
          "base_uri": "https://localhost:8080/"
        },
        "id": "NsFbdDyNpu_3",
        "outputId": "ef02e790-fe7a-4f9f-9174-a1cc97b2730b"
      },
      "outputs": [
        {
          "output_type": "execute_result",
          "data": {
            "text/plain": [
              "(50000, 1)"
            ]
          },
          "metadata": {},
          "execution_count": 6
        }
      ],
      "source": [
        "y_train.shape"
      ]
    },
    {
      "cell_type": "code",
      "execution_count": 7,
      "metadata": {
        "colab": {
          "base_uri": "https://localhost:8080/"
        },
        "id": "dMAcpRaLZmYa",
        "outputId": "a52d728a-7c3c-4a4c-9e11-8dfe60d232cb"
      },
      "outputs": [
        {
          "output_type": "execute_result",
          "data": {
            "text/plain": [
              "(4, 2, 4, 2)"
            ]
          },
          "metadata": {},
          "execution_count": 7
        }
      ],
      "source": [
        "X_train.ndim, y_train.ndim, X_test.ndim, y_test.ndim"
      ]
    },
    {
      "cell_type": "markdown",
      "metadata": {
        "id": "4ERsb2V6aLbK"
      },
      "source": [
        "**AS we Have Seen Our `y_train and y_test` is 2D but for Classification, We want 1D.So we convert it into 1D Array**"
      ]
    },
    {
      "cell_type": "code",
      "execution_count": 8,
      "metadata": {
        "colab": {
          "base_uri": "https://localhost:8080/"
        },
        "id": "ZQv__OxeafR8",
        "outputId": "f0ccffc8-af1a-4ee4-af9a-354886f6b8fe"
      },
      "outputs": [
        {
          "output_type": "execute_result",
          "data": {
            "text/plain": [
              "array([6, 9, 9, 4, 1], dtype=uint8)"
            ]
          },
          "metadata": {},
          "execution_count": 8
        }
      ],
      "source": [
        "y_train=y_train.reshape(-1,)\n",
        "y_train[:5]"
      ]
    },
    {
      "cell_type": "code",
      "execution_count": 9,
      "metadata": {
        "id": "20ttmkXeam7Z"
      },
      "outputs": [],
      "source": [
        "y_test=y_test.reshape(-1,)"
      ]
    },
    {
      "cell_type": "code",
      "execution_count": 10,
      "metadata": {
        "colab": {
          "base_uri": "https://localhost:8080/"
        },
        "id": "WWhz4bycamzD",
        "outputId": "59a09be0-7c63-4ee7-bcc8-9e7d1c8e778c"
      },
      "outputs": [
        {
          "output_type": "execute_result",
          "data": {
            "text/plain": [
              "(1, 1)"
            ]
          },
          "metadata": {},
          "execution_count": 10
        }
      ],
      "source": [
        "y_train.ndim, y_test.ndim"
      ]
    },
    {
      "cell_type": "markdown",
      "metadata": {
        "id": "86eZ9SOvazXv"
      },
      "source": [
        "**Now We have Seen Our `y_train and y_test` is 1D Array**"
      ]
    },
    {
      "cell_type": "markdown",
      "metadata": {
        "id": "i4Mr4RQLZAmt"
      },
      "source": [
        "### **4- Plot some Images**"
      ]
    },
    {
      "cell_type": "code",
      "execution_count": 11,
      "metadata": {
        "id": "yWzZ-MT7YCd7"
      },
      "outputs": [],
      "source": [
        "classes=['airplane','automobile','bird','cat','deer','dog','frog','horse','ship','truck']"
      ]
    },
    {
      "cell_type": "code",
      "execution_count": 12,
      "metadata": {
        "id": "qHcDREpeYG6l"
      },
      "outputs": [],
      "source": [
        "def plot_sample_images(X,y,index):\n",
        "    plt.figure(figsize=(15,2))\n",
        "    plt.imshow(X[index])\n",
        "    plt.xlabel(classes[y[index]])"
      ]
    },
    {
      "cell_type": "code",
      "execution_count": 13,
      "metadata": {
        "colab": {
          "base_uri": "https://localhost:8080/",
          "height": 173
        },
        "id": "KMf4WRakZK4Y",
        "outputId": "b086537a-773f-4eb3-b007-c3ca63c58a46"
      },
      "outputs": [
        {
          "output_type": "display_data",
          "data": {
            "text/plain": [
              "<Figure size 1080x144 with 1 Axes>"
            ],
            "image/png": "[encoded data removed]"
          },
          "metadata": {
            "needs_background": "light"
          }
        }
      ],
      "source": [
        "plot_sample_images(X_train,y_train, 3)"
      ]
    },
    {
      "cell_type": "code",
      "execution_count": 14,
      "metadata": {
        "colab": {
          "base_uri": "https://localhost:8080/",
          "height": 173
        },
        "id": "Kv0Z7z-mZO2C",
        "outputId": "7c1f823c-93a4-44b8-e3bf-c3f8469b7230"
      },
      "outputs": [
        {
          "output_type": "display_data",
          "data": {
            "text/plain": [
              "<Figure size 1080x144 with 1 Axes>"
            ],
            "image/png": "[encoded data removed]"
          },
          "metadata": {
            "needs_background": "light"
          }
        }
      ],
      "source": [
        "plot_sample_images(X_train,y_train, 7)"
      ]
    },
    {
      "cell_type": "code",
      "execution_count": 15,
      "metadata": {
        "colab": {
          "base_uri": "https://localhost:8080/",
          "height": 173
        },
        "id": "g78HX_FEbXKw",
        "outputId": "a9b47c6f-fcbb-41c9-cd26-1571689b9e52"
      },
      "outputs": [
        {
          "output_type": "display_data",
          "data": {
            "text/plain": [
              "<Figure size 1080x144 with 1 Axes>"
            ],
            "image/png": "[encoded data removed]"
          },
          "metadata": {
            "needs_background": "light"
          }
        }
      ],
      "source": [
        "plot_sample_images(X_train,y_train, 9)"
      ]
    },
    {
      "cell_type": "markdown",
      "metadata": {
        "id": "wPq_4d-bbcx1"
      },
      "source": [
        "### **5- Normalize The Data**"
      ]
    },
    {
      "cell_type": "code",
      "execution_count": 16,
      "metadata": {
        "id": "UYXdyMEKbbJT"
      },
      "outputs": [],
      "source": [
        "X_train=X_train/255.0\n",
        "X_test=X_test/255.0"
      ]
    },
    {
      "cell_type": "code",
      "execution_count": 17,
      "metadata": {
        "colab": {
          "base_uri": "https://localhost:8080/"
        },
        "id": "mEgbZu4oqPX8",
        "outputId": "f0c75ace-4cd5-471b-d88c-65edaaf58210"
      },
      "outputs": [
        {
          "output_type": "execute_result",
          "data": {
            "text/plain": [
              "array([[[[0.23137255, 0.24313725, 0.24705882],\n",
              "         [0.16862745, 0.18039216, 0.17647059],\n",
              "         [0.19607843, 0.18823529, 0.16862745],\n",
              "         ...,\n",
              "         [0.61960784, 0.51764706, 0.42352941],\n",
              "         [0.59607843, 0.49019608, 0.4       ],\n",
              "         [0.58039216, 0.48627451, 0.40392157]],\n",
              "\n",
              "        [[0.0627451 , 0.07843137, 0.07843137],\n",
              "         [0.        , 0.        , 0.        ],\n",
              "         [0.07058824, 0.03137255, 0.        ],\n",
              "         ...,\n",
              "         [0.48235294, 0.34509804, 0.21568627],\n",
              "         [0.46666667, 0.3254902 , 0.19607843],\n",
              "         [0.47843137, 0.34117647, 0.22352941]],\n",
              "\n",
              "        [[0.09803922, 0.09411765, 0.08235294],\n",
              "         [0.0627451 , 0.02745098, 0.        ],\n",
              "         [0.19215686, 0.10588235, 0.03137255],\n",
              "         ...,\n",
              "         [0.4627451 , 0.32941176, 0.19607843],\n",
              "         [0.47058824, 0.32941176, 0.19607843],\n",
              "         [0.42745098, 0.28627451, 0.16470588]],\n",
              "\n",
              "        ...,\n",
              "\n",
              "        [[0.81568627, 0.66666667, 0.37647059],\n",
              "         [0.78823529, 0.6       , 0.13333333],\n",
              "         [0.77647059, 0.63137255, 0.10196078],\n",
              "         ...,\n",
              "         [0.62745098, 0.52156863, 0.2745098 ],\n",
              "         [0.21960784, 0.12156863, 0.02745098],\n",
              "         [0.20784314, 0.13333333, 0.07843137]],\n",
              "\n",
              "        [[0.70588235, 0.54509804, 0.37647059],\n",
              "         [0.67843137, 0.48235294, 0.16470588],\n",
              "         [0.72941176, 0.56470588, 0.11764706],\n",
              "         ...,\n",
              "         [0.72156863, 0.58039216, 0.36862745],\n",
              "         [0.38039216, 0.24313725, 0.13333333],\n",
              "         [0.3254902 , 0.20784314, 0.13333333]],\n",
              "\n",
              "        [[0.69411765, 0.56470588, 0.45490196],\n",
              "         [0.65882353, 0.50588235, 0.36862745],\n",
              "         [0.70196078, 0.55686275, 0.34117647],\n",
              "         ...,\n",
              "         [0.84705882, 0.72156863, 0.54901961],\n",
              "         [0.59215686, 0.4627451 , 0.32941176],\n",
              "         [0.48235294, 0.36078431, 0.28235294]]],\n",
              "\n",
              "\n",
              "       [[[0.60392157, 0.69411765, 0.73333333],\n",
              "         [0.49411765, 0.5372549 , 0.53333333],\n",
              "         [0.41176471, 0.40784314, 0.37254902],\n",
              "         ...,\n",
              "         [0.35686275, 0.37254902, 0.27843137],\n",
              "         [0.34117647, 0.35294118, 0.27843137],\n",
              "         [0.30980392, 0.31764706, 0.2745098 ]],\n",
              "\n",
              "        [[0.54901961, 0.62745098, 0.6627451 ],\n",
              "         [0.56862745, 0.6       , 0.60392157],\n",
              "         [0.49019608, 0.49019608, 0.4627451 ],\n",
              "         ...,\n",
              "         [0.37647059, 0.38823529, 0.30588235],\n",
              "         [0.30196078, 0.31372549, 0.24313725],\n",
              "         [0.27843137, 0.28627451, 0.23921569]],\n",
              "\n",
              "        [[0.54901961, 0.60784314, 0.64313725],\n",
              "         [0.54509804, 0.57254902, 0.58431373],\n",
              "         [0.45098039, 0.45098039, 0.43921569],\n",
              "         ...,\n",
              "         [0.30980392, 0.32156863, 0.25098039],\n",
              "         [0.26666667, 0.2745098 , 0.21568627],\n",
              "         [0.2627451 , 0.27058824, 0.21568627]],\n",
              "\n",
              "        ...,\n",
              "\n",
              "        [[0.68627451, 0.65490196, 0.65098039],\n",
              "         [0.61176471, 0.60392157, 0.62745098],\n",
              "         [0.60392157, 0.62745098, 0.66666667],\n",
              "         ...,\n",
              "         [0.16470588, 0.13333333, 0.14117647],\n",
              "         [0.23921569, 0.20784314, 0.22352941],\n",
              "         [0.36470588, 0.3254902 , 0.35686275]],\n",
              "\n",
              "        [[0.64705882, 0.60392157, 0.50196078],\n",
              "         [0.61176471, 0.59607843, 0.50980392],\n",
              "         [0.62352941, 0.63137255, 0.55686275],\n",
              "         ...,\n",
              "         [0.40392157, 0.36470588, 0.37647059],\n",
              "         [0.48235294, 0.44705882, 0.47058824],\n",
              "         [0.51372549, 0.4745098 , 0.51372549]],\n",
              "\n",
              "        [[0.63921569, 0.58039216, 0.47058824],\n",
              "         [0.61960784, 0.58039216, 0.47843137],\n",
              "         [0.63921569, 0.61176471, 0.52156863],\n",
              "         ...,\n",
              "         [0.56078431, 0.52156863, 0.54509804],\n",
              "         [0.56078431, 0.5254902 , 0.55686275],\n",
              "         [0.56078431, 0.52156863, 0.56470588]]],\n",
              "\n",
              "\n",
              "       [[[1.        , 1.        , 1.        ],\n",
              "         [0.99215686, 0.99215686, 0.99215686],\n",
              "         [0.99215686, 0.99215686, 0.99215686],\n",
              "         ...,\n",
              "         [0.99215686, 0.99215686, 0.99215686],\n",
              "         [0.99215686, 0.99215686, 0.99215686],\n",
              "         [0.99215686, 0.99215686, 0.99215686]],\n",
              "\n",
              "        [[1.        , 1.        , 1.        ],\n",
              "         [1.        , 1.        , 1.        ],\n",
              "         [1.        , 1.        , 1.        ],\n",
              "         ...,\n",
              "         [1.        , 1.        , 1.        ],\n",
              "         [1.        , 1.        , 1.        ],\n",
              "         [1.        , 1.        , 1.        ]],\n",
              "\n",
              "        [[1.        , 1.        , 1.        ],\n",
              "         [0.99607843, 0.99607843, 0.99607843],\n",
              "         [0.99607843, 0.99607843, 0.99607843],\n",
              "         ...,\n",
              "         [0.99607843, 0.99607843, 0.99607843],\n",
              "         [0.99607843, 0.99607843, 0.99607843],\n",
              "         [0.99607843, 0.99607843, 0.99607843]],\n",
              "\n",
              "        ...,\n",
              "\n",
              "        [[0.44313725, 0.47058824, 0.43921569],\n",
              "         [0.43529412, 0.4627451 , 0.43529412],\n",
              "         [0.41176471, 0.43921569, 0.41568627],\n",
              "         ...,\n",
              "         [0.28235294, 0.31764706, 0.31372549],\n",
              "         [0.28235294, 0.31372549, 0.30980392],\n",
              "         [0.28235294, 0.31372549, 0.30980392]],\n",
              "\n",
              "        [[0.43529412, 0.4627451 , 0.43137255],\n",
              "         [0.40784314, 0.43529412, 0.40784314],\n",
              "         [0.38823529, 0.41568627, 0.38431373],\n",
              "         ...,\n",
              "         [0.26666667, 0.29411765, 0.28627451],\n",
              "         [0.2745098 , 0.29803922, 0.29411765],\n",
              "         [0.30588235, 0.32941176, 0.32156863]],\n",
              "\n",
              "        [[0.41568627, 0.44313725, 0.41176471],\n",
              "         [0.38823529, 0.41568627, 0.38431373],\n",
              "         [0.37254902, 0.4       , 0.36862745],\n",
              "         ...,\n",
              "         [0.30588235, 0.33333333, 0.3254902 ],\n",
              "         [0.30980392, 0.33333333, 0.3254902 ],\n",
              "         [0.31372549, 0.3372549 , 0.32941176]]],\n",
              "\n",
              "\n",
              "       [[[0.10980392, 0.09803922, 0.03921569],\n",
              "         [0.14509804, 0.13333333, 0.0745098 ],\n",
              "         [0.14901961, 0.1372549 , 0.07843137],\n",
              "         ...,\n",
              "         [0.29803922, 0.2627451 , 0.15294118],\n",
              "         [0.31764706, 0.28235294, 0.16862745],\n",
              "         [0.33333333, 0.29803922, 0.18431373]],\n",
              "\n",
              "        [[0.12941176, 0.10980392, 0.05098039],\n",
              "         [0.13333333, 0.11764706, 0.05490196],\n",
              "         [0.1254902 , 0.10588235, 0.04705882],\n",
              "         ...,\n",
              "         [0.37254902, 0.32156863, 0.21568627],\n",
              "         [0.37647059, 0.32156863, 0.21960784],\n",
              "         [0.33333333, 0.28235294, 0.17647059]],\n",
              "\n",
              "        [[0.15294118, 0.1254902 , 0.05882353],\n",
              "         [0.15686275, 0.12941176, 0.06666667],\n",
              "         [0.22352941, 0.19607843, 0.12941176],\n",
              "         ...,\n",
              "         [0.36470588, 0.29803922, 0.20392157],\n",
              "         [0.41960784, 0.34901961, 0.25882353],\n",
              "         [0.37254902, 0.30196078, 0.21176471]],\n",
              "\n",
              "        ...,\n",
              "\n",
              "        [[0.3254902 , 0.28627451, 0.20392157],\n",
              "         [0.34117647, 0.30196078, 0.21960784],\n",
              "         [0.32941176, 0.29019608, 0.20392157],\n",
              "         ...,\n",
              "         [0.38823529, 0.36470588, 0.2745098 ],\n",
              "         [0.35294118, 0.32941176, 0.23921569],\n",
              "         [0.31764706, 0.29411765, 0.20392157]],\n",
              "\n",
              "        [[0.34509804, 0.28235294, 0.2       ],\n",
              "         [0.35294118, 0.29019608, 0.20392157],\n",
              "         [0.36470588, 0.30196078, 0.21960784],\n",
              "         ...,\n",
              "         [0.31372549, 0.29019608, 0.20784314],\n",
              "         [0.29803922, 0.2745098 , 0.19215686],\n",
              "         [0.32156863, 0.29803922, 0.21568627]],\n",
              "\n",
              "        [[0.38039216, 0.30588235, 0.21960784],\n",
              "         [0.36862745, 0.29411765, 0.20784314],\n",
              "         [0.36470588, 0.29411765, 0.20784314],\n",
              "         ...,\n",
              "         [0.21176471, 0.18431373, 0.10980392],\n",
              "         [0.24705882, 0.21960784, 0.14509804],\n",
              "         [0.28235294, 0.25490196, 0.18039216]]],\n",
              "\n",
              "\n",
              "       [[[0.66666667, 0.70588235, 0.77647059],\n",
              "         [0.65882353, 0.69803922, 0.76862745],\n",
              "         [0.69411765, 0.7254902 , 0.79607843],\n",
              "         ...,\n",
              "         [0.63529412, 0.70196078, 0.84313725],\n",
              "         [0.61960784, 0.69803922, 0.83921569],\n",
              "         [0.61568627, 0.69411765, 0.83137255]],\n",
              "\n",
              "        [[0.65882353, 0.70980392, 0.77647059],\n",
              "         [0.6745098 , 0.7254902 , 0.78823529],\n",
              "         [0.67058824, 0.71764706, 0.78431373],\n",
              "         ...,\n",
              "         [0.62352941, 0.69411765, 0.83137255],\n",
              "         [0.61176471, 0.69019608, 0.82745098],\n",
              "         [0.60392157, 0.68235294, 0.81960784]],\n",
              "\n",
              "        [[0.60392157, 0.66666667, 0.72941176],\n",
              "         [0.58431373, 0.64705882, 0.70980392],\n",
              "         [0.50588235, 0.56470588, 0.63529412],\n",
              "         ...,\n",
              "         [0.63137255, 0.69803922, 0.83921569],\n",
              "         [0.61568627, 0.69411765, 0.83137255],\n",
              "         [0.60392157, 0.68235294, 0.81960784]],\n",
              "\n",
              "        ...,\n",
              "\n",
              "        [[0.29019608, 0.32941176, 0.31372549],\n",
              "         [0.29803922, 0.33333333, 0.31764706],\n",
              "         [0.30588235, 0.33333333, 0.32156863],\n",
              "         ...,\n",
              "         [0.27843137, 0.29411765, 0.30588235],\n",
              "         [0.26666667, 0.28235294, 0.29411765],\n",
              "         [0.23921569, 0.25490196, 0.26666667]],\n",
              "\n",
              "        [[0.26666667, 0.29803922, 0.30196078],\n",
              "         [0.27058824, 0.30196078, 0.30588235],\n",
              "         [0.28235294, 0.30980392, 0.30588235],\n",
              "         ...,\n",
              "         [0.29803922, 0.31372549, 0.3254902 ],\n",
              "         [0.27843137, 0.29411765, 0.30588235],\n",
              "         [0.27843137, 0.29411765, 0.30588235]],\n",
              "\n",
              "        [[0.2627451 , 0.29411765, 0.30588235],\n",
              "         [0.26666667, 0.29803922, 0.30980392],\n",
              "         [0.27058824, 0.29411765, 0.29803922],\n",
              "         ...,\n",
              "         [0.29411765, 0.30980392, 0.32156863],\n",
              "         [0.27843137, 0.29411765, 0.30588235],\n",
              "         [0.28627451, 0.30196078, 0.31372549]]]])"
            ]
          },
          "metadata": {},
          "execution_count": 17
        }
      ],
      "source": [
        "X_train[:5]"
      ]
    },
    {
      "cell_type": "markdown",
      "metadata": {
        "id": "vHXSALUxbqEZ"
      },
      "source": [
        "### **6-Build CNN Model**"
      ]
    },
    {
      "cell_type": "code",
      "execution_count": 18,
      "metadata": {
        "id": "H-td76zWbitp"
      },
      "outputs": [],
      "source": [
        "cnn_model = models.Sequential([\n",
        "    layers.Conv2D(filters=128, kernel_size=(3, 3), activation='relu', input_shape=(32, 32, 3)),\n",
        "    layers.MaxPooling2D((2, 2)),\n",
        "    \n",
        "    layers.Conv2D(filters=256, kernel_size=(3, 3), activation='relu'),\n",
        "    layers.MaxPooling2D((2, 2)),\n",
        "    layers.Conv2D(filters=512, kernel_size=(3, 3), activation='relu'),\n",
        "    layers.MaxPooling2D((2, 2)),\n",
        "    \n",
        "    layers.Flatten(),\n",
        "    layers.Dense(1024, activation='relu'),\n",
        "    layers.Dense(512, activation='relu'),\n",
        "    layers.Dense(10, activation='softmax')\n",
        "])\n"
      ]
    },
    {
      "cell_type": "code",
      "execution_count": 19,
      "metadata": {
        "colab": {
          "base_uri": "https://localhost:8080/"
        },
        "id": "4sok93E70QUV",
        "outputId": "7c186b34-2fcb-40e7-bb7f-302f6bb74ad4"
      },
      "outputs": [
        {
          "output_type": "stream",
          "name": "stdout",
          "text": [
            "Model: \"sequential\"\n",
            "_________________________________________________________________\n",
            " Layer (type)                Output Shape              Param #   \n",
            "=================================================================\n",
            " conv2d (Conv2D)             (None, 30, 30, 128)       3584      \n",
            "                                                                 \n",
            " max_pooling2d (MaxPooling2D  (None, 15, 15, 128)      0         \n",
            " )                                                               \n",
            "                                                                 \n",
            " conv2d_1 (Conv2D)           (None, 13, 13, 256)       295168    \n",
            "                                                                 \n",
            " max_pooling2d_1 (MaxPooling  (None, 6, 6, 256)        0         \n",
            " 2D)                                                             \n",
            "                                                                 \n",
            " conv2d_2 (Conv2D)           (None, 4, 4, 512)         1180160   \n",
            "                                                                 \n",
            " max_pooling2d_2 (MaxPooling  (None, 2, 2, 512)        0         \n",
            " 2D)                                                             \n",
            "                                                                 \n",
            " flatten (Flatten)           (None, 2048)              0         \n",
            "                                                                 \n",
            " dense (Dense)               (None, 1024)              2098176   \n",
            "                                                                 \n",
            " dense_1 (Dense)             (None, 512)               524800    \n",
            "                                                                 \n",
            " dense_2 (Dense)             (None, 10)                5130      \n",
            "                                                                 \n",
            "=================================================================\n",
            "Total params: 4,107,018\n",
            "Trainable params: 4,107,018\n",
            "Non-trainable params: 0\n",
            "_________________________________________________________________\n"
          ]
        }
      ],
      "source": [
        "cnn_model.summary()"
      ]
    },
    {
      "cell_type": "markdown",
      "metadata": {
        "id": "i5SLHzTIGHgP"
      },
      "source": [
        "### **7-Compile and Fitting The Model**"
      ]
    },
    {
      "cell_type": "code",
      "execution_count": 20,
      "metadata": {
        "id": "m_9--NV-cHTS"
      },
      "outputs": [],
      "source": [
        "cnn_model.compile(optimizer='adam',loss='sparse_categorical_crossentropy',metrics=['accuracy'])"
      ]
    },
    {
      "cell_type": "code",
      "execution_count": 21,
      "metadata": {
        "colab": {
          "base_uri": "https://localhost:8080/"
        },
        "id": "XQbG_f-icuPt",
        "outputId": "b5c22751-52a0-46fa-ea01-cf34a7cb3f48"
      },
      "outputs": [
        {
          "output_type": "stream",
          "name": "stdout",
          "text": [
            "Epoch 1/10\n",
            "1563/1563 [==============================] - 23s 8ms/step - loss: 1.4946 - accuracy: 0.4470\n",
            "Epoch 2/10\n",
            "1563/1563 [==============================] - 12s 8ms/step - loss: 1.0395 - accuracy: 0.6333\n",
            "Epoch 3/10\n",
            "1563/1563 [==============================] - 12s 8ms/step - loss: 0.8336 - accuracy: 0.7081\n",
            "Epoch 4/10\n",
            "1563/1563 [==============================] - 12s 8ms/step - loss: 0.6993 - accuracy: 0.7529\n",
            "Epoch 5/10\n",
            "1563/1563 [==============================] - 12s 8ms/step - loss: 0.5811 - accuracy: 0.7961\n",
            "Epoch 6/10\n",
            "1563/1563 [==============================] - 13s 8ms/step - loss: 0.4820 - accuracy: 0.8300\n",
            "Epoch 7/10\n",
            "1563/1563 [==============================] - 12s 8ms/step - loss: 0.3897 - accuracy: 0.8597\n",
            "Epoch 8/10\n",
            "1563/1563 [==============================] - 12s 8ms/step - loss: 0.3220 - accuracy: 0.8847\n",
            "Epoch 9/10\n",
            "1563/1563 [==============================] - 12s 8ms/step - loss: 0.2576 - accuracy: 0.9078\n",
            "Epoch 10/10\n",
            "1563/1563 [==============================] - 12s 8ms/step - loss: 0.2217 - accuracy: 0.9217\n"
          ]
        }
      ],
      "source": [
        "history = cnn_model.fit(X_train, y_train, epochs=10)"
      ]
    },
    {
      "cell_type": "code",
      "execution_count": 22,
      "metadata": {
        "colab": {
          "base_uri": "https://localhost:8080/"
        },
        "id": "DHima9XFvDMa",
        "outputId": "ed9e767d-893d-47c9-e8df-493f1c54abc6"
      },
      "outputs": [
        {
          "output_type": "stream",
          "name": "stdout",
          "text": [
            "313/313 [==============================] - 1s 4ms/step - loss: 1.2631 - accuracy: 0.7110\n"
          ]
        }
      ],
      "source": [
        "evaluation =  cnn_model.evaluate(X_test, y_test)"
      ]
    },
    {
      "cell_type": "markdown",
      "metadata": {
        "id": "7PP1HVUQGNCu"
      },
      "source": [
        "### **8-Predict The Model**"
      ]
    },
    {
      "cell_type": "code",
      "execution_count": 23,
      "metadata": {
        "colab": {
          "base_uri": "https://localhost:8080/"
        },
        "id": "Y0KO5M68Ej5l",
        "outputId": "8944eb40-8b16-4fb9-c4e1-312464e0d546"
      },
      "outputs": [
        {
          "output_type": "execute_result",
          "data": {
            "text/plain": [
              "array([[4.75410488e-04, 4.41999509e-05, 3.88847751e-04, 9.26351130e-01,\n",
              "        2.17072753e-04, 7.19524994e-02, 4.02876583e-04, 2.28700719e-05,\n",
              "        5.30102079e-05, 9.20553575e-05],\n",
              "       [9.38355413e-07, 2.86453404e-03, 1.13301357e-09, 4.67079118e-11,\n",
              "        1.82257931e-10, 7.20077990e-12, 1.11323739e-09, 3.00298984e-13,\n",
              "        9.97133493e-01, 1.04363824e-06],\n",
              "       [4.21676248e-01, 2.35859290e-01, 2.13839617e-02, 3.56658101e-02,\n",
              "        8.80816299e-03, 4.05204901e-03, 2.55911681e-03, 7.73529988e-03,\n",
              "        9.53422934e-02, 1.66917816e-01],\n",
              "       [9.53714550e-01, 1.22230831e-05, 1.24507089e-04, 1.09769346e-04,\n",
              "        4.20756623e-05, 3.92021275e-06, 2.14843851e-07, 7.07491722e-07,\n",
              "        4.59649637e-02, 2.69128122e-05],\n",
              "       [4.85299267e-08, 4.51955834e-10, 4.74112807e-04, 1.17023697e-03,\n",
              "        9.97552335e-01, 6.89538911e-06, 7.96215318e-04, 1.21374299e-07,\n",
              "        2.51752041e-09, 3.13499837e-10]], dtype=float32)"
            ]
          },
          "metadata": {},
          "execution_count": 23
        }
      ],
      "source": [
        "y_pred = cnn_model.predict(X_test)\n",
        "y_pred[:5]"
      ]
    },
    {
      "cell_type": "code",
      "execution_count": 24,
      "metadata": {
        "colab": {
          "base_uri": "https://localhost:8080/",
          "height": 814
        },
        "id": "pqz8p-k-GVzg",
        "outputId": "2931e459-6b81-4a68-f6e5-f682e95f6400"
      },
      "outputs": [
        {
          "output_type": "execute_result",
          "data": {
            "text/plain": [
              "(None, None, None, None, None)"
            ]
          },
          "metadata": {},
          "execution_count": 24
        },
        {
          "output_type": "display_data",
          "data": {
            "text/plain": [
              "<Figure size 1080x144 with 1 Axes>"
            ],
            "image/png": "[encoded data removed]"
          },
          "metadata": {
            "needs_background": "light"
          }
        },
        {
          "output_type": "display_data",
          "data": {
            "text/plain": [
              "<Figure size 1080x144 with 1 Axes>"
            ],
            "image/png": "[encoded data removed]"
          },
          "metadata": {
            "needs_background": "light"
          }
        },
        {
          "output_type": "display_data",
          "data": {
            "text/plain": [
              "<Figure size 1080x144 with 1 Axes>"
            ],
            "image/png": "[encoded data removed]"
          },
          "metadata": {
            "needs_background": "light"
          }
        },
        {
          "output_type": "display_data",
          "data": {
            "text/plain": [
              "<Figure size 1080x144 with 1 Axes>"
            ],
            "image/png": "[encoded data removed]"
          },
          "metadata": {
            "needs_background": "light"
          }
        },
        {
          "output_type": "display_data",
          "data": {
            "text/plain": [
              "<Figure size 1080x144 with 1 Axes>"
            ],
            "image/png": "[encoded data removed]"
          },
          "metadata": {
            "needs_background": "light"
          }
        }
      ],
      "source": [
        "plot_sample_images(X_test, y_test, 1), plot_sample_images(X_test, y_test, 3), plot_sample_images(X_test, y_test, 5), plot_sample_images(X_test, y_test, 8), plot_sample_images(X_test, y_test, 9)"
      ]
    },
    {
      "cell_type": "markdown",
      "metadata": {
        "id": "tj4TWrqpIf06"
      },
      "source": [
        "### **9-Saving The Model**"
      ]
    },
    {
      "cell_type": "code",
      "execution_count": 25,
      "metadata": {
        "id": "iJ_DG8w3HaD_"
      },
      "outputs": [],
      "source": [
        "cnn_model.save('cifer_10_using_cnn.hdf5')"
      ]
    },
    {
      "cell_type": "code",
      "source": [
        "cnn_model.save('cifer_10_using_cnn.h5')"
      ],
      "metadata": {
        "id": "agmsiW9d1MlB"
      },
      "execution_count": 28,
      "outputs": []
    },
    {
      "cell_type": "code",
      "execution_count": 26,
      "metadata": {
        "id": "Yfg7zrcoI60e"
      },
      "outputs": [],
      "source": [
        "loaded_model =tf.keras.models.load_model(\"/content/cifer_10_using_cnn.hdf5\")"
      ]
    },
    {
      "cell_type": "code",
      "execution_count": 27,
      "metadata": {
        "colab": {
          "base_uri": "https://localhost:8080/"
        },
        "id": "4HquPtupj0Ei",
        "outputId": "bcc586ff-a7bd-4d0c-9ba2-a3b4c31b47d0"
      },
      "outputs": [
        {
          "output_type": "stream",
          "name": "stdout",
          "text": [
            "313/313 [==============================] - 1s 4ms/step - loss: 1.2631 - accuracy: 0.7110\n"
          ]
        },
        {
          "output_type": "execute_result",
          "data": {
            "text/plain": [
              "[1.2631244659423828, 0.7110000252723694]"
            ]
          },
          "metadata": {},
          "execution_count": 27
        }
      ],
      "source": [
        "loaded_model.evaluate(X_test, y_test)"
      ]
    },
    {
      "cell_type": "code",
      "execution_count": 27,
      "metadata": {
        "id": "i9U9uEdaj51g"
      },
      "outputs": [],
      "source": [
        ""
      ]
    }
  ],
  "metadata": {
    "accelerator": "GPU",
    "colab": {
      "name": "Build_CIFAR_10_Dataset_classifier.ipynb",
      "provenance": []
    },
    "gpuClass": "standard",
    "kernelspec": {
      "display_name": "Python 3.10.5 64-bit",
      "language": "python",
      "name": "python3"
    },
    "language_info": {
      "name": "python",
      "version": "3.10.5"
    },
    "vscode": {
      "interpreter": {
        "hash": "2469a70536e4d2335a2ea8907942d0699c37342a371ac185bdb5b0aa6f073890"
      }
    }
  },
  "nbformat": 4,
  "nbformat_minor": 0
}